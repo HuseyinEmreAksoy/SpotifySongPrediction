{
 "cells": [
  {
   "cell_type": "code",
   "execution_count": 1,
   "id": "68755978",
   "metadata": {},
   "outputs": [],
   "source": [
    "import numpy as np\n",
    "import pandas as pd\n",
    "from sklearn.preprocessing import LabelEncoder\n",
    "from sklearn.model_selection import train_test_split\n",
    "import torch\n",
    "import torch.nn as nn\n",
    "from torch.utils.data import Dataset, DataLoader\n",
    "from torch.optim.lr_scheduler import StepLR\n",
    "import warnings\n",
    "warnings.filterwarnings(\"ignore\")"
   ]
  },
  {
   "cell_type": "code",
   "execution_count": 2,
   "id": "1faabd3d",
   "metadata": {
    "pycharm": {
     "name": "#%%\n"
    }
   },
   "outputs": [
    {
     "data": {
      "text/html": [
       "<div>\n",
       "<style scoped>\n",
       "    .dataframe tbody tr th:only-of-type {\n",
       "        vertical-align: middle;\n",
       "    }\n",
       "\n",
       "    .dataframe tbody tr th {\n",
       "        vertical-align: top;\n",
       "    }\n",
       "\n",
       "    .dataframe thead th {\n",
       "        text-align: right;\n",
       "    }\n",
       "</style>\n",
       "<table border=\"1\" class=\"dataframe\">\n",
       "  <thead>\n",
       "    <tr style=\"text-align: right;\">\n",
       "      <th></th>\n",
       "      <th>artist_name</th>\n",
       "      <th>id</th>\n",
       "      <th>track_name</th>\n",
       "      <th>danceability</th>\n",
       "      <th>energy</th>\n",
       "      <th>key</th>\n",
       "      <th>loudness</th>\n",
       "      <th>mode</th>\n",
       "      <th>speechiness</th>\n",
       "      <th>acousticness</th>\n",
       "      <th>instrumentalness</th>\n",
       "      <th>liveness</th>\n",
       "      <th>valence</th>\n",
       "      <th>tempo</th>\n",
       "      <th>artist_pop</th>\n",
       "      <th>genres</th>\n",
       "      <th>track_pop</th>\n",
       "      <th>genres_list</th>\n",
       "      <th>subjectivity</th>\n",
       "      <th>polarity</th>\n",
       "    </tr>\n",
       "  </thead>\n",
       "  <tbody>\n",
       "    <tr>\n",
       "      <th>0</th>\n",
       "      <td>Missy Elliott</td>\n",
       "      <td>0UaMYEvWZi0ZqiDOoHU3YI</td>\n",
       "      <td>Lose Control (feat. Ciara &amp; Fat Man Scoop)</td>\n",
       "      <td>0.904</td>\n",
       "      <td>0.813</td>\n",
       "      <td>4</td>\n",
       "      <td>-7.105</td>\n",
       "      <td>0</td>\n",
       "      <td>0.1210</td>\n",
       "      <td>0.03110</td>\n",
       "      <td>0.006970</td>\n",
       "      <td>0.0471</td>\n",
       "      <td>0.810</td>\n",
       "      <td>125.461</td>\n",
       "      <td>74</td>\n",
       "      <td>dance_pop hip_hop hip_pop pop pop_rap r&amp;b rap ...</td>\n",
       "      <td>69</td>\n",
       "      <td>['dance_pop', 'hip_hop', 'hip_pop', 'pop', 'po...</td>\n",
       "      <td>low</td>\n",
       "      <td>Neutral</td>\n",
       "    </tr>\n",
       "    <tr>\n",
       "      <th>1</th>\n",
       "      <td>Britney Spears</td>\n",
       "      <td>6I9VzXrHxO9rA9A5euc8Ak</td>\n",
       "      <td>Toxic</td>\n",
       "      <td>0.774</td>\n",
       "      <td>0.838</td>\n",
       "      <td>5</td>\n",
       "      <td>-3.914</td>\n",
       "      <td>0</td>\n",
       "      <td>0.1140</td>\n",
       "      <td>0.02490</td>\n",
       "      <td>0.025000</td>\n",
       "      <td>0.2420</td>\n",
       "      <td>0.924</td>\n",
       "      <td>143.040</td>\n",
       "      <td>84</td>\n",
       "      <td>dance_pop pop post-teen_pop</td>\n",
       "      <td>83</td>\n",
       "      <td>['dance_pop', 'pop', 'post-teen_pop']</td>\n",
       "      <td>low</td>\n",
       "      <td>Neutral</td>\n",
       "    </tr>\n",
       "    <tr>\n",
       "      <th>2</th>\n",
       "      <td>Beyoncé</td>\n",
       "      <td>0WqIKmW4BTrj3eJFmnCKMv</td>\n",
       "      <td>Crazy In Love</td>\n",
       "      <td>0.664</td>\n",
       "      <td>0.758</td>\n",
       "      <td>2</td>\n",
       "      <td>-6.583</td>\n",
       "      <td>0</td>\n",
       "      <td>0.2100</td>\n",
       "      <td>0.00238</td>\n",
       "      <td>0.000000</td>\n",
       "      <td>0.0598</td>\n",
       "      <td>0.701</td>\n",
       "      <td>99.259</td>\n",
       "      <td>86</td>\n",
       "      <td>dance_pop pop r&amp;b</td>\n",
       "      <td>25</td>\n",
       "      <td>['dance_pop', 'pop', 'r&amp;b']</td>\n",
       "      <td>high</td>\n",
       "      <td>Negative</td>\n",
       "    </tr>\n",
       "    <tr>\n",
       "      <th>3</th>\n",
       "      <td>Justin Timberlake</td>\n",
       "      <td>1AWQoqb9bSvzTjaLralEkT</td>\n",
       "      <td>Rock Your Body</td>\n",
       "      <td>0.892</td>\n",
       "      <td>0.714</td>\n",
       "      <td>4</td>\n",
       "      <td>-6.055</td>\n",
       "      <td>0</td>\n",
       "      <td>0.1410</td>\n",
       "      <td>0.20100</td>\n",
       "      <td>0.000234</td>\n",
       "      <td>0.0521</td>\n",
       "      <td>0.817</td>\n",
       "      <td>100.972</td>\n",
       "      <td>82</td>\n",
       "      <td>dance_pop pop</td>\n",
       "      <td>79</td>\n",
       "      <td>['dance_pop', 'pop']</td>\n",
       "      <td>low</td>\n",
       "      <td>Neutral</td>\n",
       "    </tr>\n",
       "    <tr>\n",
       "      <th>4</th>\n",
       "      <td>Shaggy</td>\n",
       "      <td>1lzr43nnXAijIGYnCT8M8H</td>\n",
       "      <td>It Wasn't Me</td>\n",
       "      <td>0.853</td>\n",
       "      <td>0.606</td>\n",
       "      <td>0</td>\n",
       "      <td>-4.596</td>\n",
       "      <td>1</td>\n",
       "      <td>0.0713</td>\n",
       "      <td>0.05610</td>\n",
       "      <td>0.000000</td>\n",
       "      <td>0.3130</td>\n",
       "      <td>0.654</td>\n",
       "      <td>94.759</td>\n",
       "      <td>75</td>\n",
       "      <td>pop_rap reggae_fusion</td>\n",
       "      <td>2</td>\n",
       "      <td>['pop_rap', 'reggae_fusion']</td>\n",
       "      <td>low</td>\n",
       "      <td>Neutral</td>\n",
       "    </tr>\n",
       "    <tr>\n",
       "      <th>5</th>\n",
       "      <td>Usher</td>\n",
       "      <td>0XUfyU2QviPAs6bxSpXYG4</td>\n",
       "      <td>Yeah!</td>\n",
       "      <td>0.881</td>\n",
       "      <td>0.788</td>\n",
       "      <td>2</td>\n",
       "      <td>-4.669</td>\n",
       "      <td>1</td>\n",
       "      <td>0.1680</td>\n",
       "      <td>0.02120</td>\n",
       "      <td>0.000000</td>\n",
       "      <td>0.0377</td>\n",
       "      <td>0.592</td>\n",
       "      <td>104.997</td>\n",
       "      <td>82</td>\n",
       "      <td>atl_hip_hop contemporary_r&amp;b dance_pop pop r&amp;b...</td>\n",
       "      <td>0</td>\n",
       "      <td>['atl_hip_hop', 'contemporary_r&amp;b', 'dance_pop...</td>\n",
       "      <td>low</td>\n",
       "      <td>Neutral</td>\n",
       "    </tr>\n",
       "    <tr>\n",
       "      <th>6</th>\n",
       "      <td>Usher</td>\n",
       "      <td>68vgtRHr7iZHpzGpon6Jlo</td>\n",
       "      <td>My Boo</td>\n",
       "      <td>0.662</td>\n",
       "      <td>0.507</td>\n",
       "      <td>5</td>\n",
       "      <td>-8.238</td>\n",
       "      <td>1</td>\n",
       "      <td>0.1180</td>\n",
       "      <td>0.25700</td>\n",
       "      <td>0.000000</td>\n",
       "      <td>0.0465</td>\n",
       "      <td>0.676</td>\n",
       "      <td>86.412</td>\n",
       "      <td>82</td>\n",
       "      <td>atl_hip_hop contemporary_r&amp;b dance_pop pop r&amp;b...</td>\n",
       "      <td>79</td>\n",
       "      <td>['atl_hip_hop', 'contemporary_r&amp;b', 'dance_pop...</td>\n",
       "      <td>low</td>\n",
       "      <td>Neutral</td>\n",
       "    </tr>\n",
       "  </tbody>\n",
       "</table>\n",
       "</div>"
      ],
      "text/plain": [
       "         artist_name                      id  \\\n",
       "0      Missy Elliott  0UaMYEvWZi0ZqiDOoHU3YI   \n",
       "1     Britney Spears  6I9VzXrHxO9rA9A5euc8Ak   \n",
       "2            Beyoncé  0WqIKmW4BTrj3eJFmnCKMv   \n",
       "3  Justin Timberlake  1AWQoqb9bSvzTjaLralEkT   \n",
       "4             Shaggy  1lzr43nnXAijIGYnCT8M8H   \n",
       "5              Usher  0XUfyU2QviPAs6bxSpXYG4   \n",
       "6              Usher  68vgtRHr7iZHpzGpon6Jlo   \n",
       "\n",
       "                                   track_name  danceability  energy  key  \\\n",
       "0  Lose Control (feat. Ciara & Fat Man Scoop)         0.904   0.813    4   \n",
       "1                                       Toxic         0.774   0.838    5   \n",
       "2                               Crazy In Love         0.664   0.758    2   \n",
       "3                              Rock Your Body         0.892   0.714    4   \n",
       "4                                It Wasn't Me         0.853   0.606    0   \n",
       "5                                       Yeah!         0.881   0.788    2   \n",
       "6                                      My Boo         0.662   0.507    5   \n",
       "\n",
       "   loudness  mode  speechiness  acousticness  instrumentalness  liveness  \\\n",
       "0    -7.105     0       0.1210       0.03110          0.006970    0.0471   \n",
       "1    -3.914     0       0.1140       0.02490          0.025000    0.2420   \n",
       "2    -6.583     0       0.2100       0.00238          0.000000    0.0598   \n",
       "3    -6.055     0       0.1410       0.20100          0.000234    0.0521   \n",
       "4    -4.596     1       0.0713       0.05610          0.000000    0.3130   \n",
       "5    -4.669     1       0.1680       0.02120          0.000000    0.0377   \n",
       "6    -8.238     1       0.1180       0.25700          0.000000    0.0465   \n",
       "\n",
       "   valence    tempo  artist_pop  \\\n",
       "0    0.810  125.461          74   \n",
       "1    0.924  143.040          84   \n",
       "2    0.701   99.259          86   \n",
       "3    0.817  100.972          82   \n",
       "4    0.654   94.759          75   \n",
       "5    0.592  104.997          82   \n",
       "6    0.676   86.412          82   \n",
       "\n",
       "                                              genres  track_pop  \\\n",
       "0  dance_pop hip_hop hip_pop pop pop_rap r&b rap ...         69   \n",
       "1                        dance_pop pop post-teen_pop         83   \n",
       "2                                  dance_pop pop r&b         25   \n",
       "3                                      dance_pop pop         79   \n",
       "4                              pop_rap reggae_fusion          2   \n",
       "5  atl_hip_hop contemporary_r&b dance_pop pop r&b...          0   \n",
       "6  atl_hip_hop contemporary_r&b dance_pop pop r&b...         79   \n",
       "\n",
       "                                         genres_list subjectivity  polarity  \n",
       "0  ['dance_pop', 'hip_hop', 'hip_pop', 'pop', 'po...          low   Neutral  \n",
       "1              ['dance_pop', 'pop', 'post-teen_pop']          low   Neutral  \n",
       "2                        ['dance_pop', 'pop', 'r&b']         high  Negative  \n",
       "3                               ['dance_pop', 'pop']          low   Neutral  \n",
       "4                       ['pop_rap', 'reggae_fusion']          low   Neutral  \n",
       "5  ['atl_hip_hop', 'contemporary_r&b', 'dance_pop...          low   Neutral  \n",
       "6  ['atl_hip_hop', 'contemporary_r&b', 'dance_pop...          low   Neutral  "
      ]
     },
     "execution_count": 2,
     "metadata": {},
     "output_type": "execute_result"
    }
   ],
   "source": [
    "df = pd.read_csv('data2.csv')\n",
    "df.head(7)"
   ]
  },
  {
   "cell_type": "code",
   "execution_count": 3,
   "id": "d980034f",
   "metadata": {
    "pycharm": {
     "name": "#%%\n"
    }
   },
   "outputs": [],
   "source": [
    "df.drop(['id', 'track_name', 'genres_list'], axis=1, inplace=True)"
   ]
  },
  {
   "cell_type": "code",
   "execution_count": 4,
   "id": "c6209c51",
   "metadata": {
    "pycharm": {
     "name": "#%%\n"
    }
   },
   "outputs": [],
   "source": [
    "df[\"artist_name\"] = (df[\"artist_name\"].str.strip()).str.lower()\n",
    "df[\"genres\"] = (df[\"genres\"].str.strip()).str.lower()"
   ]
  },
  {
   "cell_type": "code",
   "execution_count": 5,
   "id": "6df8d2c8",
   "metadata": {
    "pycharm": {
     "name": "#%%\n"
    }
   },
   "outputs": [],
   "source": [
    "columns = ['artist_name', 'subjectivity', 'polarity']\n",
    "le = LabelEncoder()\n",
    "for col in columns:\n",
    "    df[col] = le.fit_transform(df[col])"
   ]
  },
  {
   "cell_type": "code",
   "execution_count": 6,
   "id": "688ff9ec",
   "metadata": {
    "pycharm": {
     "name": "#%%\n"
    }
   },
   "outputs": [],
   "source": [
    "df[\"loudness\"] = df[\"loudness\"] + 60"
   ]
  },
  {
   "cell_type": "code",
   "execution_count": 7,
   "id": "0ce98d08",
   "metadata": {
    "pycharm": {
     "name": "#%%\n"
    }
   },
   "outputs": [],
   "source": [
    "columns = ['artist_name', 'key', 'artist_pop', 'track_pop', 'subjectivity', 'polarity']\n",
    "for col in columns:\n",
    "    df[col] = df[col] / df[col].max()"
   ]
  },
  {
   "cell_type": "code",
   "execution_count": 8,
   "id": "b3c70a14",
   "metadata": {
    "pycharm": {
     "name": "#%%\n"
    }
   },
   "outputs": [],
   "source": [
    "columns = ['danceability', 'energy', 'loudness', 'speechiness', 'acousticness', 'instrumentalness', 'liveness', 'valence', 'tempo']\n",
    "for col in columns:\n",
    "    df[col] = df[col] / df[col].max()"
   ]
  },
  {
   "cell_type": "code",
   "execution_count": 9,
   "id": "e7e5fb10",
   "metadata": {
    "pycharm": {
     "name": "#%%\n"
    }
   },
   "outputs": [
    {
     "name": "stdout",
     "output_type": "stream",
     "text": [
      "<class 'pandas.core.frame.DataFrame'>\n",
      "RangeIndex: 34247 entries, 0 to 34246\n",
      "Data columns (total 17 columns):\n",
      " #   Column            Non-Null Count  Dtype  \n",
      "---  ------            --------------  -----  \n",
      " 0   artist_name       34247 non-null  float64\n",
      " 1   danceability      34247 non-null  float64\n",
      " 2   energy            34247 non-null  float64\n",
      " 3   key               34247 non-null  float64\n",
      " 4   loudness          34247 non-null  float64\n",
      " 5   mode              34247 non-null  int64  \n",
      " 6   speechiness       34247 non-null  float64\n",
      " 7   acousticness      34247 non-null  float64\n",
      " 8   instrumentalness  34247 non-null  float64\n",
      " 9   liveness          34247 non-null  float64\n",
      " 10  valence           34247 non-null  float64\n",
      " 11  tempo             34247 non-null  float64\n",
      " 12  artist_pop        34247 non-null  float64\n",
      " 13  genres            34247 non-null  object \n",
      " 14  track_pop         34247 non-null  float64\n",
      " 15  subjectivity      34247 non-null  float64\n",
      " 16  polarity          34247 non-null  float64\n",
      "dtypes: float64(15), int64(1), object(1)\n",
      "memory usage: 4.4+ MB\n"
     ]
    }
   ],
   "source": [
    "df.info()"
   ]
  },
  {
   "cell_type": "code",
   "execution_count": 10,
   "id": "65c9afd6",
   "metadata": {
    "pycharm": {
     "name": "#%%\n"
    }
   },
   "outputs": [
    {
     "data": {
      "text/html": [
       "<div>\n",
       "<style scoped>\n",
       "    .dataframe tbody tr th:only-of-type {\n",
       "        vertical-align: middle;\n",
       "    }\n",
       "\n",
       "    .dataframe tbody tr th {\n",
       "        vertical-align: top;\n",
       "    }\n",
       "\n",
       "    .dataframe thead th {\n",
       "        text-align: right;\n",
       "    }\n",
       "</style>\n",
       "<table border=\"1\" class=\"dataframe\">\n",
       "  <thead>\n",
       "    <tr style=\"text-align: right;\">\n",
       "      <th></th>\n",
       "      <th>artist_name</th>\n",
       "      <th>danceability</th>\n",
       "      <th>energy</th>\n",
       "      <th>key</th>\n",
       "      <th>loudness</th>\n",
       "      <th>mode</th>\n",
       "      <th>speechiness</th>\n",
       "      <th>acousticness</th>\n",
       "      <th>instrumentalness</th>\n",
       "      <th>liveness</th>\n",
       "      <th>valence</th>\n",
       "      <th>tempo</th>\n",
       "      <th>artist_pop</th>\n",
       "      <th>track_pop</th>\n",
       "      <th>subjectivity</th>\n",
       "      <th>polarity</th>\n",
       "    </tr>\n",
       "  </thead>\n",
       "  <tbody>\n",
       "    <tr>\n",
       "      <th>count</th>\n",
       "      <td>34247.000000</td>\n",
       "      <td>34247.000000</td>\n",
       "      <td>34247.000000</td>\n",
       "      <td>34247.000000</td>\n",
       "      <td>34247.000000</td>\n",
       "      <td>34247.000000</td>\n",
       "      <td>34247.000000</td>\n",
       "      <td>34247.000000</td>\n",
       "      <td>34247.000000</td>\n",
       "      <td>34247.000000</td>\n",
       "      <td>34247.000000</td>\n",
       "      <td>34247.000000</td>\n",
       "      <td>34247.000000</td>\n",
       "      <td>34247.000000</td>\n",
       "      <td>34247.000000</td>\n",
       "      <td>34247.000000</td>\n",
       "    </tr>\n",
       "    <tr>\n",
       "      <th>mean</th>\n",
       "      <td>0.498793</td>\n",
       "      <td>0.591795</td>\n",
       "      <td>0.636613</td>\n",
       "      <td>0.474019</td>\n",
       "      <td>0.834741</td>\n",
       "      <td>0.665080</td>\n",
       "      <td>0.094766</td>\n",
       "      <td>0.264799</td>\n",
       "      <td>0.077573</td>\n",
       "      <td>0.197244</td>\n",
       "      <td>0.486990</td>\n",
       "      <td>0.554970</td>\n",
       "      <td>0.619166</td>\n",
       "      <td>0.320773</td>\n",
       "      <td>0.395728</td>\n",
       "      <td>0.536908</td>\n",
       "    </tr>\n",
       "    <tr>\n",
       "      <th>std</th>\n",
       "      <td>0.288269</td>\n",
       "      <td>0.166302</td>\n",
       "      <td>0.225477</td>\n",
       "      <td>0.325780</td>\n",
       "      <td>0.063206</td>\n",
       "      <td>0.471969</td>\n",
       "      <td>0.105089</td>\n",
       "      <td>0.301755</td>\n",
       "      <td>0.219825</td>\n",
       "      <td>0.166794</td>\n",
       "      <td>0.244118</td>\n",
       "      <td>0.133595</td>\n",
       "      <td>0.191201</td>\n",
       "      <td>0.262561</td>\n",
       "      <td>0.208142</td>\n",
       "      <td>0.245965</td>\n",
       "    </tr>\n",
       "    <tr>\n",
       "      <th>min</th>\n",
       "      <td>0.000000</td>\n",
       "      <td>0.000000</td>\n",
       "      <td>0.000000</td>\n",
       "      <td>0.000000</td>\n",
       "      <td>0.000000</td>\n",
       "      <td>0.000000</td>\n",
       "      <td>0.000000</td>\n",
       "      <td>0.000000</td>\n",
       "      <td>0.000000</td>\n",
       "      <td>0.000000</td>\n",
       "      <td>0.000000</td>\n",
       "      <td>0.000000</td>\n",
       "      <td>0.000000</td>\n",
       "      <td>0.000000</td>\n",
       "      <td>0.000000</td>\n",
       "      <td>0.000000</td>\n",
       "    </tr>\n",
       "    <tr>\n",
       "      <th>25%</th>\n",
       "      <td>0.251724</td>\n",
       "      <td>0.481781</td>\n",
       "      <td>0.490000</td>\n",
       "      <td>0.181818</td>\n",
       "      <td>0.809905</td>\n",
       "      <td>0.000000</td>\n",
       "      <td>0.036486</td>\n",
       "      <td>0.020181</td>\n",
       "      <td>0.000000</td>\n",
       "      <td>0.095800</td>\n",
       "      <td>0.292585</td>\n",
       "      <td>0.449723</td>\n",
       "      <td>0.510000</td>\n",
       "      <td>0.000000</td>\n",
       "      <td>0.500000</td>\n",
       "      <td>0.500000</td>\n",
       "    </tr>\n",
       "    <tr>\n",
       "      <th>50%</th>\n",
       "      <td>0.496964</td>\n",
       "      <td>0.599190</td>\n",
       "      <td>0.669000</td>\n",
       "      <td>0.454545</td>\n",
       "      <td>0.849266</td>\n",
       "      <td>1.000000</td>\n",
       "      <td>0.050832</td>\n",
       "      <td>0.126506</td>\n",
       "      <td>0.000008</td>\n",
       "      <td>0.128000</td>\n",
       "      <td>0.477956</td>\n",
       "      <td>0.551444</td>\n",
       "      <td>0.650000</td>\n",
       "      <td>0.350515</td>\n",
       "      <td>0.500000</td>\n",
       "      <td>0.500000</td>\n",
       "    </tr>\n",
       "    <tr>\n",
       "      <th>75%</th>\n",
       "      <td>0.741433</td>\n",
       "      <td>0.713563</td>\n",
       "      <td>0.818000</td>\n",
       "      <td>0.727273</td>\n",
       "      <td>0.876239</td>\n",
       "      <td>1.000000</td>\n",
       "      <td>0.099584</td>\n",
       "      <td>0.446787</td>\n",
       "      <td>0.002714</td>\n",
       "      <td>0.252000</td>\n",
       "      <td>0.678357</td>\n",
       "      <td>0.638550</td>\n",
       "      <td>0.760000</td>\n",
       "      <td>0.546392</td>\n",
       "      <td>0.500000</td>\n",
       "      <td>0.500000</td>\n",
       "    </tr>\n",
       "    <tr>\n",
       "      <th>max</th>\n",
       "      <td>1.000000</td>\n",
       "      <td>1.000000</td>\n",
       "      <td>1.000000</td>\n",
       "      <td>1.000000</td>\n",
       "      <td>1.000000</td>\n",
       "      <td>1.000000</td>\n",
       "      <td>1.000000</td>\n",
       "      <td>1.000000</td>\n",
       "      <td>1.000000</td>\n",
       "      <td>1.000000</td>\n",
       "      <td>1.000000</td>\n",
       "      <td>1.000000</td>\n",
       "      <td>1.000000</td>\n",
       "      <td>1.000000</td>\n",
       "      <td>1.000000</td>\n",
       "      <td>1.000000</td>\n",
       "    </tr>\n",
       "  </tbody>\n",
       "</table>\n",
       "</div>"
      ],
      "text/plain": [
       "        artist_name  danceability        energy           key      loudness  \\\n",
       "count  34247.000000  34247.000000  34247.000000  34247.000000  34247.000000   \n",
       "mean       0.498793      0.591795      0.636613      0.474019      0.834741   \n",
       "std        0.288269      0.166302      0.225477      0.325780      0.063206   \n",
       "min        0.000000      0.000000      0.000000      0.000000      0.000000   \n",
       "25%        0.251724      0.481781      0.490000      0.181818      0.809905   \n",
       "50%        0.496964      0.599190      0.669000      0.454545      0.849266   \n",
       "75%        0.741433      0.713563      0.818000      0.727273      0.876239   \n",
       "max        1.000000      1.000000      1.000000      1.000000      1.000000   \n",
       "\n",
       "               mode   speechiness  acousticness  instrumentalness  \\\n",
       "count  34247.000000  34247.000000  34247.000000      34247.000000   \n",
       "mean       0.665080      0.094766      0.264799          0.077573   \n",
       "std        0.471969      0.105089      0.301755          0.219825   \n",
       "min        0.000000      0.000000      0.000000          0.000000   \n",
       "25%        0.000000      0.036486      0.020181          0.000000   \n",
       "50%        1.000000      0.050832      0.126506          0.000008   \n",
       "75%        1.000000      0.099584      0.446787          0.002714   \n",
       "max        1.000000      1.000000      1.000000          1.000000   \n",
       "\n",
       "           liveness       valence         tempo    artist_pop     track_pop  \\\n",
       "count  34247.000000  34247.000000  34247.000000  34247.000000  34247.000000   \n",
       "mean       0.197244      0.486990      0.554970      0.619166      0.320773   \n",
       "std        0.166794      0.244118      0.133595      0.191201      0.262561   \n",
       "min        0.000000      0.000000      0.000000      0.000000      0.000000   \n",
       "25%        0.095800      0.292585      0.449723      0.510000      0.000000   \n",
       "50%        0.128000      0.477956      0.551444      0.650000      0.350515   \n",
       "75%        0.252000      0.678357      0.638550      0.760000      0.546392   \n",
       "max        1.000000      1.000000      1.000000      1.000000      1.000000   \n",
       "\n",
       "       subjectivity      polarity  \n",
       "count  34247.000000  34247.000000  \n",
       "mean       0.395728      0.536908  \n",
       "std        0.208142      0.245965  \n",
       "min        0.000000      0.000000  \n",
       "25%        0.500000      0.500000  \n",
       "50%        0.500000      0.500000  \n",
       "75%        0.500000      0.500000  \n",
       "max        1.000000      1.000000  "
      ]
     },
     "execution_count": 10,
     "metadata": {},
     "output_type": "execute_result"
    }
   ],
   "source": [
    "df.describe()"
   ]
  },
  {
   "cell_type": "code",
   "execution_count": 11,
   "id": "fea39dcc",
   "metadata": {
    "pycharm": {
     "name": "#%%\n"
    }
   },
   "outputs": [],
   "source": [
    "# genre_list = []\n",
    "# for genres in df['genres']:\n",
    "#     genres = genres.split(' ')\n",
    "#     for genre in genres:\n",
    "#         genre_list.append(genre)"
   ]
  },
  {
   "cell_type": "code",
   "execution_count": 12,
   "id": "72b5674d",
   "metadata": {
    "pycharm": {
     "name": "#%%\n"
    }
   },
   "outputs": [],
   "source": [
    "# cnt = 0\n",
    "# for i, genre in enumerate(genre_list):\n",
    "#     if 'trap' in genre:\n",
    "#         cnt += 1\n",
    "# cnt"
   ]
  },
  {
   "cell_type": "code",
   "execution_count": 13,
   "id": "ad8ef8ea",
   "metadata": {
    "pycharm": {
     "name": "#%%\n"
    }
   },
   "outputs": [],
   "source": [
    "main_genres = ['contemporary', 'country', 'dance', 'folk', 'hip_hop',\n",
    "               'house', 'indie', 'metal', 'modern', 'pop',\n",
    "               'rap', 'rock', 'r&b', 'soul', 'trap'\n",
    "               ]"
   ]
  },
  {
   "cell_type": "code",
   "execution_count": 14,
   "id": "cfbb49a8",
   "metadata": {
    "pycharm": {
     "name": "#%%\n"
    }
   },
   "outputs": [],
   "source": [
    "genre_to_class = { 'other' : 0,\n",
    "                   'contemporary' : 1,\n",
    "                   'country' : 2,\n",
    "                   'dance' : 3,\n",
    "                   'folk' : 4,\n",
    "                   'hip_hop' : 5,\n",
    "                   'house' : 6,\n",
    "                   'indie' : 7,\n",
    "                   'metal' : 8,\n",
    "                   'modern' : 9,\n",
    "                   'pop' : 10,\n",
    "                   'rap' : 11,\n",
    "                   'rock' : 12,\n",
    "                   'r&b' : 13,\n",
    "                   'soul' : 14,\n",
    "                   'trap' : 15\n",
    "}"
   ]
  },
  {
   "cell_type": "code",
   "execution_count": 15,
   "id": "10dc9777",
   "metadata": {
    "pycharm": {
     "name": "#%%\n"
    }
   },
   "outputs": [],
   "source": [
    "class_to_genre = { 0 : 'other',\n",
    "                   1 : 'contemporary',\n",
    "                   2 : 'country',\n",
    "                   3 : 'dance',\n",
    "                   4 : 'folk',\n",
    "                   5 : 'hip_hop',\n",
    "                   6 : 'house',\n",
    "                   7 : 'indie',\n",
    "                   8 : 'metal',\n",
    "                   9 : 'modern',\n",
    "                   10 : 'pop',\n",
    "                   11 : 'rap',\n",
    "                   12 : 'rock',\n",
    "                   13 : 'r&b',\n",
    "                   14 : 'soul',\n",
    "                   15 : 'trap',\n",
    "}"
   ]
  },
  {
   "cell_type": "code",
   "execution_count": 16,
   "id": "1615411f",
   "metadata": {
    "pycharm": {
     "name": "#%%\n"
    }
   },
   "outputs": [],
   "source": [
    "genre_classes = np.zeros((df.shape[0], len(genre_to_class)))\n",
    "for i, genres in enumerate(df['genres']):\n",
    "    genres = genres.split(' ')\n",
    "    for genre in genres:\n",
    "        other = True\n",
    "        for main_genre in main_genres:\n",
    "            if main_genre in genre:\n",
    "                genre_classes[i, genre_to_class[main_genre]] = 1\n",
    "                other = False\n",
    "        if other:\n",
    "            genre_classes[i, genre_to_class['other']] = 1"
   ]
  },
  {
   "cell_type": "code",
   "execution_count": 17,
   "id": "dbc56d8d",
   "metadata": {
    "pycharm": {
     "name": "#%%\n"
    }
   },
   "outputs": [],
   "source": [
    "df.drop(['genres'], axis=1, inplace=True)\n",
    "number_features = 16"
   ]
  },
  {
   "cell_type": "code",
   "execution_count": 18,
   "id": "49816d14",
   "metadata": {
    "pycharm": {
     "name": "#%%\n"
    }
   },
   "outputs": [],
   "source": [
    "df_train,df_test,y_train,y_test = train_test_split(df,genre_classes, test_size=0.15, random_state=12)"
   ]
  },
  {
   "cell_type": "code",
   "execution_count": 19,
   "id": "601b2217",
   "metadata": {
    "pycharm": {
     "name": "#%%\n"
    }
   },
   "outputs": [],
   "source": [
    "x_train = df_train.to_numpy()\n",
    "x_test = df_test.to_numpy()"
   ]
  },
  {
   "cell_type": "code",
   "execution_count": 20,
   "id": "59a46004",
   "metadata": {
    "pycharm": {
     "name": "#%%\n"
    }
   },
   "outputs": [],
   "source": [
    "x_train,x_val,y_train,y_val = train_test_split(x_train,y_train, test_size=0.1765, random_state=12)"
   ]
  },
  {
   "cell_type": "code",
   "execution_count": 21,
   "id": "e39e4929",
   "metadata": {
    "pycharm": {
     "name": "#%%\n"
    }
   },
   "outputs": [],
   "source": [
    "class spotifyDataset(Dataset):\n",
    "    def __init__(self, x, y):\n",
    "        super().__init__()\n",
    "        self.x = x\n",
    "        self.y = y\n",
    "\n",
    "    def __len__(self):\n",
    "        return self.x.shape[0]\n",
    "\n",
    "    def __getitem__(self, idx):\n",
    "        x = self.x[idx, :]\n",
    "        y = self.y[idx, :]\n",
    "        return x,y"
   ]
  },
  {
   "cell_type": "code",
   "execution_count": 22,
   "id": "2660154c",
   "metadata": {
    "pycharm": {
     "name": "#%%\n"
    }
   },
   "outputs": [],
   "source": [
    "dataset_train = spotifyDataset(x_train, y_train)\n",
    "dataset_val = spotifyDataset(x_val, y_val)\n",
    "dataset_test = spotifyDataset(x_test, y_test)"
   ]
  },
  {
   "cell_type": "code",
   "execution_count": 23,
   "id": "7961c5af",
   "metadata": {
    "pycharm": {
     "name": "#%%\n"
    }
   },
   "outputs": [],
   "source": [
    "train_loader = DataLoader(dataset_train, batch_size = 1024, shuffle = True)\n",
    "val_loader = DataLoader(dataset_val, batch_size = 1, shuffle = False)\n",
    "test_loader = DataLoader(dataset_test, batch_size = 1, shuffle = False)"
   ]
  },
  {
   "cell_type": "code",
   "execution_count": 24,
   "id": "b9686265",
   "metadata": {
    "pycharm": {
     "name": "#%%\n"
    }
   },
   "outputs": [],
   "source": [
    "class MLP(nn.Module):\n",
    "    def __init__(self):\n",
    "        super(MLP, self).__init__()\n",
    "        self.bn0 = nn.BatchNorm1d(number_features)\n",
    "\n",
    "        self.fc1 = nn.Linear(number_features, 128)\n",
    "        self.bn1 = nn.BatchNorm1d(128)\n",
    "        self.drop1 = nn.Dropout(p=0.1)\n",
    "\n",
    "        self.fc2 = nn.Linear(128, 64)\n",
    "        self.bn2 = nn.BatchNorm1d(64)\n",
    "        self.drop2 = nn.Dropout(p=0.1)\n",
    "\n",
    "        # self.fc3 = nn.Linear(64, 32)\n",
    "        # self.bn3 = nn.BatchNorm1d(32)\n",
    "        # self.drop3 = nn.Dropout(p=0.1)\n",
    "\n",
    "        self.leakyrelU = nn.LeakyReLU()\n",
    "        self.out = nn.Linear(64, len(genre_to_class))\n",
    "        self.sigmoid = nn.Sigmoid()\n",
    "\n",
    "    def forward(self, x):\n",
    "        x = self.bn0(x)\n",
    "\n",
    "        x = self.fc1(x)\n",
    "        x = self.bn1(x)\n",
    "        x = self.leakyrelU(x)\n",
    "        x = self.drop1(x)\n",
    "\n",
    "        x = self.fc2(x)\n",
    "        x = self.bn2(x)\n",
    "        x = self.leakyrelU(x)\n",
    "        x = self.drop2(x)\n",
    "\n",
    "        # x = self.fc3(x)\n",
    "        # x = self.bn3(x)\n",
    "        # x = self.leakyrelU(x)\n",
    "        # x = self.drop3(x)\n",
    "\n",
    "        x = self.out(x)\n",
    "        x = self.sigmoid(x)\n",
    "        return x"
   ]
  },
  {
   "cell_type": "code",
   "execution_count": 25,
   "id": "d0a4042c",
   "metadata": {
    "pycharm": {
     "name": "#%%\n"
    }
   },
   "outputs": [],
   "source": [
    "model = MLP()\n",
    "model = model.float()\n",
    "\n",
    "criterion = nn.BCELoss()\n",
    "optimizer = torch.optim.Adam(model.parameters(), lr=0.01)\n",
    "scheduler = StepLR(optimizer, step_size=5, gamma=0.8)"
   ]
  },
  {
   "cell_type": "code",
   "execution_count": 26,
   "id": "5e2d6b84",
   "metadata": {
    "pycharm": {
     "name": "#%%\n"
    }
   },
   "outputs": [],
   "source": [
    "model_name = './model.pt'"
   ]
  },
  {
   "cell_type": "code",
   "execution_count": 27,
   "id": "3627f11d",
   "metadata": {
    "pycharm": {
     "name": "#%%\n"
    }
   },
   "outputs": [],
   "source": []
  },
  {
   "cell_type": "code",
   "execution_count": 28,
   "id": "09558082",
   "metadata": {
    "pycharm": {
     "name": "#%%\n"
    }
   },
   "outputs": [
    {
     "data": {
      "text/plain": [
       "0.27411006400185156"
      ]
     },
     "execution_count": 28,
     "metadata": {},
     "output_type": "execute_result"
    }
   ],
   "source": [
    "model.load_state_dict(torch.load(model_name))\n",
    "model.eval()\n",
    "preds = None\n",
    "targets = None\n",
    "val_loss_best = 0\n",
    "for i, (data, target) in enumerate(test_loader):\n",
    "    output = model(data.float())\n",
    "    pred = output.detach().numpy()\n",
    "    loss = criterion(output, target.float())\n",
    "    val_loss_best += loss.item()*data.size(0)\n",
    "\n",
    "    if i==0:\n",
    "        preds = pred\n",
    "        targets = target.detach().cpu().numpy()\n",
    "    else:\n",
    "        preds = np.concatenate((preds, pred), axis=0)\n",
    "        targets = np.concatenate((targets, target.detach().cpu().numpy()), axis=0)\n",
    "\n",
    "val_loss_best = val_loss_best / len(test_loader.dataset)\n",
    "val_loss_best"
   ]
  },
  {
   "cell_type": "code",
   "execution_count": 30,
   "id": "875cefd2",
   "metadata": {
    "pycharm": {
     "name": "#%%\n"
    }
   },
   "outputs": [],
   "source": []
  },
  {
   "cell_type": "code",
   "execution_count": 31,
   "id": "1af6d09e",
   "metadata": {
    "pycharm": {
     "name": "#%%\n"
    }
   },
   "outputs": [],
   "source": []
  },
  {
   "cell_type": "code",
   "execution_count": 32,
   "id": "c0470619",
   "metadata": {
    "pycharm": {
     "name": "#%%\n"
    }
   },
   "outputs": [],
   "source": []
  },
  {
   "cell_type": "code",
   "execution_count": 33,
   "id": "3090fc4b",
   "metadata": {
    "pycharm": {
     "name": "#%%\n"
    }
   },
   "outputs": [],
   "source": []
  },
  {
   "cell_type": "code",
   "execution_count": 34,
   "id": "08146e69",
   "metadata": {
    "pycharm": {
     "name": "#%%\n"
    }
   },
   "outputs": [],
   "source": [
    "prediction_limit = 2"
   ]
  },
  {
   "cell_type": "code",
   "execution_count": 35,
   "id": "c18ceb11",
   "metadata": {
    "pycharm": {
     "name": "#%%\n"
    }
   },
   "outputs": [],
   "source": [
    "CM = np.zeros((len(genre_to_class)+1, len(genre_to_class)+1))\n",
    "for k in range(preds.shape[0]):\n",
    "    indices = np.argsort(preds[k])\n",
    "    for i in range(len(genre_to_class)-1, -1, -1):\n",
    "        l = indices[i]\n",
    "        if i+prediction_limit >= len(genre_to_class):\n",
    "            if preds[k,l] >= 0.5:\n",
    "                if targets[k,l] == 1:\n",
    "                    CM[l,l] += 1\n",
    "                else:\n",
    "                    CM[len(genre_to_class),l] += 1\n",
    "            else:\n",
    "                if targets[k,l] == 1:\n",
    "                    CM[l,len(genre_to_class)] += 1"
   ]
  },
  {
   "cell_type": "code",
   "execution_count": 36,
   "id": "e3a38fbd",
   "metadata": {
    "pycharm": {
     "name": "#%%\n"
    }
   },
   "outputs": [],
   "source": [
    "np.savetxt('confusion_matrix_limited.csv', CM, delimiter=',')"
   ]
  },
  {
   "cell_type": "code",
   "execution_count": 37,
   "id": "6f1d8601",
   "metadata": {
    "pycharm": {
     "name": "#%%\n"
    }
   },
   "outputs": [
    {
     "data": {
      "text/plain": [
       "66.33809200090641"
      ]
     },
     "execution_count": 37,
     "metadata": {},
     "output_type": "execute_result"
    }
   ],
   "source": [
    "100 * np.trace(CM) / np.sum(CM)"
   ]
  },
  {
   "cell_type": "code",
   "execution_count": 38,
   "id": "1d247a55",
   "metadata": {
    "pycharm": {
     "name": "#%%\n"
    }
   },
   "outputs": [
    {
     "data": {
      "text/plain": [
       "82.81432463993772"
      ]
     },
     "execution_count": 38,
     "metadata": {},
     "output_type": "execute_result"
    }
   ],
   "source": [
    "hit_count = 0\n",
    "for k in range(preds.shape[0]):\n",
    "    indices = np.argsort(preds[k])\n",
    "    for i in range(len(genre_to_class)-1, -1, -1):\n",
    "        l = indices[i]\n",
    "        if i+prediction_limit >= len(genre_to_class):\n",
    "            if preds[k,l] >= 0.5:\n",
    "                if targets[k,l] == 1:\n",
    "                    hit_count += 1\n",
    "                    break\n",
    "100*hit_count/preds.shape[0]"
   ]
  },
  {
   "cell_type": "code",
   "execution_count": 39,
   "id": "b12a7d6c",
   "metadata": {
    "pycharm": {
     "name": "#%%\n"
    }
   },
   "outputs": [],
   "source": [
    "CMs = []\n",
    "for l in range(len(genre_to_class)):\n",
    "    CMs.append(np.zeros((2,2)))"
   ]
  },
  {
   "cell_type": "code",
   "execution_count": 40,
   "id": "3bb5afb2",
   "metadata": {
    "pycharm": {
     "name": "#%%\n"
    }
   },
   "outputs": [],
   "source": [
    "for k in range(preds.shape[0]):\n",
    "    indices = np.argsort(preds[k])\n",
    "    for i in range(len(genre_to_class)-1, -1, -1):\n",
    "        l = indices[i]\n",
    "        if i+prediction_limit >= len(genre_to_class):\n",
    "            if preds[k,l] >= 0.5:\n",
    "                if targets[k,l] == 1:\n",
    "                    CMs[l][1,1] += 1\n",
    "                else:\n",
    "                    CMs[l][0,1] += 1\n",
    "            else:\n",
    "                if targets[k,l] == 1:\n",
    "                    CMs[l][1,0] += 1\n",
    "                else:\n",
    "                    CMs[l][0,0] += 1"
   ]
  },
  {
   "cell_type": "code",
   "execution_count": 41,
   "id": "c9a128ad",
   "metadata": {
    "pycharm": {
     "name": "#%%\n"
    }
   },
   "outputs": [
    {
     "name": "stdout",
     "output_type": "stream",
     "text": [
      "72.28485015122354\n",
      "75.0\n",
      "67.8082191780822\n",
      "66.43835616438356\n",
      "80.23255813953489\n",
      "75.32956685499059\n",
      "76.36363636363636\n",
      "76.36363636363636\n",
      "66.33663366336634\n",
      "90.9090909090909\n",
      "67.1280276816609\n",
      "75.05827505827506\n",
      "69.96779388083736\n",
      "58.53658536585366\n",
      "69.44444444444444\n",
      "83.33333333333333\n"
     ]
    },
    {
     "data": {
      "text/plain": [
       "71.08797197353056"
      ]
     },
     "execution_count": 41,
     "metadata": {},
     "output_type": "execute_result"
    }
   ],
   "source": [
    "accuracies = []\n",
    "counts = []\n",
    "for i in range(len(genre_to_class)):\n",
    "    # print(CMs[i])\n",
    "    counts.append(np.sum(CMs[i]))\n",
    "    accuracies.append(100 * np.trace(CMs[i]) / np.sum(CMs[i]))\n",
    "    print(accuracies[-1])\n",
    "np.dot(counts, accuracies) / np.sum(counts)"
   ]
  },
  {
   "cell_type": "code",
   "execution_count": 42,
   "id": "98c7e568",
   "metadata": {
    "pycharm": {
     "name": "#%%\n"
    }
   },
   "outputs": [],
   "source": []
  },
  {
   "cell_type": "code",
   "execution_count": 43,
   "id": "cd96dff1",
   "metadata": {
    "pycharm": {
     "name": "#%%\n"
    }
   },
   "outputs": [],
   "source": [
    "prediction_limit = 2"
   ]
  },
  {
   "cell_type": "code",
   "execution_count": 44,
   "id": "696b5ace",
   "metadata": {
    "pycharm": {
     "name": "#%%\n"
    }
   },
   "outputs": [],
   "source": [
    "CM = np.zeros((len(genre_to_class)+1, len(genre_to_class)+1))\n",
    "for k in range(preds.shape[0]):\n",
    "    indices = np.argsort(preds[k])\n",
    "    hit = False\n",
    "    for i in range(len(genre_to_class)-1, -1, -1):\n",
    "        l = indices[i]\n",
    "        if i+prediction_limit >= len(genre_to_class):\n",
    "            if preds[k,l] >= 0.5:\n",
    "                if targets[k,l] == 1:\n",
    "                    CM[l,l] += 1\n",
    "                    hit = True\n",
    "                else:\n",
    "                    CM[len(genre_to_class),l] += 1\n",
    "    if not hit:\n",
    "        for i in range(len(genre_to_class)-1, -1, -1):\n",
    "            l = indices[i]\n",
    "            if i+prediction_limit >= len(genre_to_class):\n",
    "                if preds[k,l] < 0.5:\n",
    "                    if targets[k,l] == 1:\n",
    "                        CM[l,len(genre_to_class)] += 1"
   ]
  },
  {
   "cell_type": "code",
   "execution_count": 45,
   "id": "aba63789",
   "metadata": {
    "pycharm": {
     "name": "#%%\n"
    }
   },
   "outputs": [],
   "source": [
    "np.savetxt('confusion_matrix_limited_stricted.csv', CM, delimiter=',')"
   ]
  },
  {
   "cell_type": "code",
   "execution_count": 46,
   "id": "dfa26ea5",
   "metadata": {
    "pycharm": {
     "name": "#%%\n"
    }
   },
   "outputs": [
    {
     "data": {
      "text/plain": [
       "69.13449049474555"
      ]
     },
     "execution_count": 46,
     "metadata": {},
     "output_type": "execute_result"
    }
   ],
   "source": [
    "100 * np.trace(CM) / np.sum(CM)"
   ]
  },
  {
   "cell_type": "code",
   "execution_count": 47,
   "id": "17ff38ac",
   "metadata": {
    "pycharm": {
     "name": "#%%\n"
    }
   },
   "outputs": [
    {
     "data": {
      "text/plain": [
       "82.81432463993772"
      ]
     },
     "execution_count": 47,
     "metadata": {},
     "output_type": "execute_result"
    }
   ],
   "source": [
    "hit_count = 0\n",
    "for k in range(preds.shape[0]):\n",
    "    indices = np.argsort(preds[k])\n",
    "    for i in range(len(genre_to_class)-1, -1, -1):\n",
    "        l = indices[i]\n",
    "        if i+prediction_limit >= len(genre_to_class):\n",
    "            if preds[k,l] >= 0.5:\n",
    "                if targets[k,l] == 1:\n",
    "                    hit_count += 1\n",
    "                    break\n",
    "100*hit_count/preds.shape[0]"
   ]
  },
  {
   "cell_type": "code",
   "execution_count": 48,
   "id": "e13a2e76",
   "metadata": {
    "pycharm": {
     "name": "#%%\n"
    }
   },
   "outputs": [],
   "source": [
    "CMs = []\n",
    "for l in range(len(genre_to_class)):\n",
    "    CMs.append(np.zeros((2,2)))"
   ]
  },
  {
   "cell_type": "code",
   "execution_count": 49,
   "id": "46ea0b56",
   "metadata": {
    "pycharm": {
     "name": "#%%\n"
    }
   },
   "outputs": [],
   "source": [
    "for k in range(preds.shape[0]):\n",
    "    indices = np.argsort(preds[k])\n",
    "\n",
    "    hit = False\n",
    "    for i in range(len(genre_to_class)-1, -1, -1):\n",
    "        l = indices[i]\n",
    "        if i+prediction_limit >= len(genre_to_class):\n",
    "            if preds[k,l] >= 0.5:\n",
    "                if targets[k,l] == 1:\n",
    "                    CMs[l][1,1] += 1\n",
    "                    hit = True\n",
    "                else:\n",
    "                    CMs[l][0,1] += 1\n",
    "    if not hit:\n",
    "        for i in range(len(genre_to_class)-1, -1, -1):\n",
    "            l = indices[i]\n",
    "            if i+prediction_limit >= len(genre_to_class):\n",
    "                if preds[k,l] < 0.5:\n",
    "                    if targets[k,l] == 1:\n",
    "                        CMs[l][1,0] += 1\n",
    "                    else:\n",
    "                        CMs[l][0,0] += 1"
   ]
  },
  {
   "cell_type": "code",
   "execution_count": 50,
   "id": "c84e769d",
   "metadata": {
    "pycharm": {
     "name": "#%%\n"
    }
   },
   "outputs": [
    {
     "name": "stdout",
     "output_type": "stream",
     "text": [
      "73.0\n",
      "71.71717171717172\n",
      "67.4074074074074\n",
      "65.47085201793722\n",
      "64.0\n",
      "74.89711934156378\n",
      "70.96774193548387\n",
      "62.27272727272727\n",
      "65.21739130434783\n",
      "66.66666666666667\n",
      "64.57725947521865\n",
      "75.09627727856225\n",
      "70.31963470319634\n",
      "61.29032258064516\n",
      "62.5\n",
      "90.9090909090909\n"
     ]
    },
    {
     "data": {
      "text/plain": [
       "70.28194633924511"
      ]
     },
     "execution_count": 50,
     "metadata": {},
     "output_type": "execute_result"
    }
   ],
   "source": [
    "accuracies = []\n",
    "counts = []\n",
    "for i in range(len(genre_to_class)):\n",
    "    # print(CMs[i])\n",
    "    counts.append(np.sum(CMs[i]))\n",
    "    accuracies.append(100 * np.trace(CMs[i]) / np.sum(CMs[i]))\n",
    "    print(accuracies[-1])\n",
    "np.dot(counts, accuracies) / np.sum(counts)"
   ]
  },
  {
   "cell_type": "code",
   "execution_count": null,
   "id": "edfc4786",
   "metadata": {
    "pycharm": {
     "name": "#%%\n"
    }
   },
   "outputs": [],
   "source": []
  },
  {
   "cell_type": "code",
   "execution_count": 51,
   "id": "af2de14e",
   "metadata": {
    "pycharm": {
     "name": "#%%\n"
    }
   },
   "outputs": [],
   "source": [
    "cnt = 1"
   ]
  },
  {
   "cell_type": "code",
   "execution_count": 52,
   "id": "a1566e57",
   "metadata": {
    "pycharm": {
     "name": "#%%\n"
    }
   },
   "outputs": [],
   "source": [
    "i = np.random.permutation(preds.shape[0])\n",
    "xs = preds[i[0:cnt], :]\n",
    "ys = targets[i[0:cnt], :]"
   ]
  },
  {
   "cell_type": "code",
   "execution_count": 53,
   "id": "dbf81577",
   "metadata": {
    "pycharm": {
     "name": "#%%\n"
    }
   },
   "outputs": [
    {
     "name": "stdout",
     "output_type": "stream",
     "text": [
      "---LABELS---\n",
      "metal\n",
      "rock\n",
      "---PREDS---\n",
      "rock\n",
      "other\n",
      "\n"
     ]
    }
   ],
   "source": [
    "for x,y in zip(xs,ys):\n",
    "    print('---LABELS---')\n",
    "    for a in range(len(genre_to_class)):\n",
    "        if y[a] == 1:\n",
    "            print(class_to_genre[a])\n",
    "\n",
    "    print('---PREDS---')\n",
    "    indices = np.argsort(x)\n",
    "    for i in range(len(genre_to_class)-1, -1, -1):\n",
    "        l = indices[i]\n",
    "        if i+prediction_limit >= len(genre_to_class):\n",
    "            if x[l] >= 0.5:\n",
    "                print(class_to_genre[l])\n",
    "    print()"
   ]
  }
 ],
 "metadata": {
  "kernelspec": {
   "display_name": "Python 3 (ipykernel)",
   "language": "python",
   "name": "python3"
  },
  "language_info": {
   "codemirror_mode": {
    "name": "ipython",
    "version": 3
   },
   "file_extension": ".py",
   "mimetype": "text/x-python",
   "name": "python",
   "nbconvert_exporter": "python",
   "pygments_lexer": "ipython3",
   "version": "3.10.6"
  }
 },
 "nbformat": 4,
 "nbformat_minor": 5
}
